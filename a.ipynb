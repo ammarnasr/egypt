{
 "cells": [
  {
   "cell_type": "code",
   "execution_count": 9,
   "metadata": {},
   "outputs": [],
   "source": [
    "import time\n",
    "from selenium import webdriver\n",
    "from selenium.webdriver.common.by import By\n",
    "from selenium.webdriver.support.ui import WebDriverWait\n",
    "from selenium.webdriver.support import expected_conditions as EC\n",
    "from selenium.webdriver.chrome.service import Service\n",
    "from webdriver_manager.chrome import ChromeDriverManager\n",
    "from selenium.webdriver.chrome.options import Options\n",
    "from selenium.common.exceptions import TimeoutException, NoSuchElementException\n",
    "\n",
    "url = \"https://app.acuityscheduling.com/schedule.php?owner=29805901&all=1&PHPSESSID=sehgvlmp5q67mjjs10mvltl7sv\"\n",
    "\n",
    "\n",
    "def setup_driver():\n",
    "    chrome_options = Options()\n",
    "    chrome_options.add_argument(\"--headless\")\n",
    "    chrome_options.add_argument(\"--no-sandbox\")\n",
    "    chrome_options.add_argument(\"--disable-dev-shm-usage\")\n",
    "    service = Service(ChromeDriverManager().install())\n",
    "    return webdriver.Chrome(service=service, options=chrome_options)\n",
    "\n",
    "\n",
    "driver = setup_driver()\n",
    "all_info = []\n",
    "driver.get(url)\n",
    "wait = WebDriverWait(driver, 10)\n",
    "\n",
    "all_info.append(\"Page Title: \" + driver.title)\n",
    "all_info.append(\"Page URL: \" + driver.current_url)\n",
    "all_info.append(\"Page Source:\")\n",
    "all_info.append(driver.page_source)"
   ]
  },
  {
   "cell_type": "code",
   "execution_count": 10,
   "metadata": {},
   "outputs": [
    {
     "name": "stdout",
     "output_type": "stream",
     "text": [
      "1. Business Information:\n",
      "Business Name: Egyptian Consulate in Dubai\n",
      "Business Description: Welcome to the online visa appointment system for sudanese citizens in Dubai & Northern Emirates. Please book your appointment and visit the consulate along with the visa form, passport,  2 photos, UA...\n",
      "\n",
      "2. Appointment Availability:\n",
      "Availability Message: No times are available in the next month (from August 31, 2024 to September 30, 2024)\n",
      "Calendar is empty, suggesting no available appointments.\n",
      "\n",
      "3. Appointment Types:\n",
      "- Visa Appointment for Sudanese Citizens\n",
      "  Duration: 15 minutes\n",
      "\n",
      "4. Time Zone Information:\n",
      "Default Time Zone: (GMT+4:00) Dubai\n",
      "\n",
      "5. Contact Information:\n",
      "Phone field is present in the form.\n",
      "Email field is present in the form.\n",
      "\n",
      "6. Additional Information:\n",
      "Could not parse additional Acuity data.\n",
      "\n",
      "7. Scheduling Steps:\n",
      "The scheduling process includes these steps:\n",
      "- 1\n",
      "Choose Appointment\n",
      "- 2\n",
      "\t\tYour Information\n",
      "- 3\n",
      "\t\tConfirmation\n",
      "\n",
      "8. Form Fields:\n",
      "The following form fields are required:\n",
      "- firstName (Type: text)\n",
      "- lastName (Type: text)\n",
      "- phone (Type: text)\n",
      "- email (Type: email)\n",
      "\n",
      "9. Recaptcha Information:\n",
      "Google reCAPTCHA is implemented on this page.\n",
      "reCAPTCHA Site Key: 6Lfj59UmAAAAAAS_LRReC2ZEV-T-E15s0JWZsSYL\n",
      "\n",
      "10. Powered By:\n",
      "This scheduling system is powered by: \n"
     ]
    },
    {
     "name": "stderr",
     "output_type": "stream",
     "text": [
      "/var/folders/km/kdv7hqy122dch3mdx3jbs0b40000gp/T/ipykernel_68167/110839561.py:91: DeprecationWarning: The 'text' argument to find()-type methods is deprecated. Use 'string' instead.\n",
      "  site_key = soup.find('script', text=lambda t: t and 'RECAPTCHA_SITE_KEY' in t)\n"
     ]
    }
   ],
   "source": [
    "from bs4 import BeautifulSoup\n",
    "import json\n",
    "\n",
    "# Assuming the HTML content is stored in a variable called 'html_content'\n",
    "soup = BeautifulSoup(driver.page_source, 'html.parser')\n",
    "\n",
    "\n"
   ]
  },
  {
   "cell_type": "code",
   "execution_count": null,
   "metadata": {},
   "outputs": [],
   "source": [
    "email_field"
   ]
  },
  {
   "cell_type": "code",
   "execution_count": null,
   "metadata": {},
   "outputs": [],
   "source": [
    "script_tags[0].string"
   ]
  },
  {
   "cell_type": "code",
   "execution_count": null,
   "metadata": {},
   "outputs": [],
   "source": []
  }
 ],
 "metadata": {
  "kernelspec": {
   "display_name": "warwick",
   "language": "python",
   "name": "python3"
  },
  "language_info": {
   "codemirror_mode": {
    "name": "ipython",
    "version": 3
   },
   "file_extension": ".py",
   "mimetype": "text/x-python",
   "name": "python",
   "nbconvert_exporter": "python",
   "pygments_lexer": "ipython3",
   "version": "3.12.2"
  }
 },
 "nbformat": 4,
 "nbformat_minor": 2
}
